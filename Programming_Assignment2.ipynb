{
 "cells": [
  {
   "cell_type": "code",
   "execution_count": 2,
   "id": "90af442e",
   "metadata": {},
   "outputs": [
    {
     "name": "stdout",
     "output_type": "stream",
     "text": [
      "Enter kilometers value: 65\n",
      "Input value in miles is 40.389115000000004\n"
     ]
    }
   ],
   "source": [
    "#1 Write a Python program to convert kilometers to miles?\n",
    "\n",
    "x = int(input(\"Enter kilometers value: \"))\n",
    "\n",
    "miles = 0.621371*x\n",
    "\n",
    "print(\"Input value in miles is {}\".format(miles))"
   ]
  },
  {
   "cell_type": "code",
   "execution_count": 16,
   "id": "430a60ba",
   "metadata": {},
   "outputs": [
    {
     "name": "stdout",
     "output_type": "stream",
     "text": [
      "Enter Celsius value: 0\n",
      "Input value in Fahrenheit is 32.0\n"
     ]
    }
   ],
   "source": [
    "#2 Write a Python program to convert Celsius to Fahrenheit?\n",
    "\n",
    "x = int(input(\"Enter Celsius value: \"))\n",
    "\n",
    "fahrenheit = (1.8*x)+32\n",
    "\n",
    "print(\"Input value in Fahrenheit is {}\".format(fahrenheit))"
   ]
  },
  {
   "cell_type": "code",
   "execution_count": 21,
   "id": "6f83cd04",
   "metadata": {},
   "outputs": [
    {
     "name": "stdout",
     "output_type": "stream",
     "text": [
      "Enter year of calender: 2022\n",
      "Enter month of calender: 11\n",
      "   November 2022\n",
      "Mo Tu We Th Fr Sa Su\n",
      "    1  2  3  4  5  6\n",
      " 7  8  9 10 11 12 13\n",
      "14 15 16 17 18 19 20\n",
      "21 22 23 24 25 26 27\n",
      "28 29 30\n",
      "\n"
     ]
    }
   ],
   "source": [
    "#3 Write a Python program to display calendar?\n",
    "\n",
    "# import module\n",
    "import calendar\n",
    " \n",
    "yy = int(input(\"Enter year of calender: \"))\n",
    "mm = int(input(\"Enter month of calender: \"))\n",
    " \n",
    "# display the calendar\n",
    "print(calendar.month(yy, mm))"
   ]
  },
  {
   "cell_type": "code",
   "execution_count": 53,
   "id": "52d84f36",
   "metadata": {},
   "outputs": [
    {
     "name": "stdout",
     "output_type": "stream",
     "text": [
      "enter a value: 1\n",
      "enter b value: 5\n",
      "enter c value: 6\n",
      "the solution of given values are (-2+0j) and (-3+0j)\n"
     ]
    }
   ],
   "source": [
    "#4 Write a Python program to solve quadratic equation?\n",
    "\n",
    "import cmath\n",
    "\n",
    "a = int(input(\"enter a value: \"))\n",
    "b = int(input(\"enter b value: \"))\n",
    "c = int(input(\"enter c value: \"))\n",
    "\n",
    "# d is discriminant\n",
    "d = (b**2)-4*a*c\n",
    "\n",
    "x = ((-b+cmath.sqrt(d))/2*a)\n",
    "y = ((-b-cmath.sqrt(d))/2*a)\n",
    "\n",
    "print(\"the solution of given values are {0} and {1}\".format(x,y))"
   ]
  },
  {
   "cell_type": "code",
   "execution_count": 57,
   "id": "19eebde1",
   "metadata": {},
   "outputs": [
    {
     "name": "stdout",
     "output_type": "stream",
     "text": [
      "enter number a: 8\n",
      "enter number b: 2\n",
      "before swapping values are a = 8 and b = 2\n",
      "After swapping values are a = 2 and b = 8\n"
     ]
    }
   ],
   "source": [
    "#5 Write a Python program to swap two variables without temp variable?\n",
    "\n",
    "a = int(input(\"enter number a: \"))\n",
    "b = int(input(\"enter number b: \"))\n",
    "print(\"Before swapping values are a = {0} and b = {1}\".format(a,b))\n",
    "\n",
    "#logic\n",
    "a = a + b\n",
    "b = a - b\n",
    "a = a - b\n",
    "\n",
    "print(\"After swapping values are a = {0} and b = {1}\".format(a,b))\n"
   ]
  }
 ],
 "metadata": {
  "kernelspec": {
   "display_name": "Python 3 (ipykernel)",
   "language": "python",
   "name": "python3"
  },
  "language_info": {
   "codemirror_mode": {
    "name": "ipython",
    "version": 3
   },
   "file_extension": ".py",
   "mimetype": "text/x-python",
   "name": "python",
   "nbconvert_exporter": "python",
   "pygments_lexer": "ipython3",
   "version": "3.9.12"
  }
 },
 "nbformat": 4,
 "nbformat_minor": 5
}
